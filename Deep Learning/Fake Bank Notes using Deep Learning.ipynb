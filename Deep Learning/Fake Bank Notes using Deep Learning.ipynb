{
 "cells": [
  {
   "cell_type": "markdown",
   "metadata": {},
   "source": [
    "# Fake vs Real Bank notes using Neural Networks"
   ]
  },
  {
   "cell_type": "markdown",
   "metadata": {},
   "source": [
    "Importing Libraries & Data"
   ]
  },
  {
   "cell_type": "code",
   "execution_count": 1,
   "metadata": {},
   "outputs": [],
   "source": [
    "import matplotlib.pyplot as plt\n",
    "import numpy as np\n",
    "import tensorflow as tf\n",
    "import pandas as pd\n",
    "from sklearn.preprocessing import LabelEncoder\n",
    "from sklearn.utils import shuffle\n",
    "from sklearn.model_selection import train_test_split"
   ]
  },
  {
   "cell_type": "code",
   "execution_count": 3,
   "metadata": {},
   "outputs": [],
   "source": [
    "import tensorflow.compat.v1 as tf\n",
    "tf.disable_v2_behavior()"
   ]
  },
  {
   "cell_type": "markdown",
   "metadata": {},
   "source": [
    "EDA"
   ]
  },
  {
   "cell_type": "code",
   "execution_count": 4,
   "metadata": {},
   "outputs": [],
   "source": [
    "def read_dataset():\n",
    "    df=pd.read_csv(\"C:\\\\Users\\\\Parth Salke\\\\Downloads\\\\Datasets\\\\banknotes.csv\")\n",
    "    X=df[df.columns[0:4]].values                   #sonar values from 1 to last column\n",
    "    y=df[df.columns[4]]                            #last column value of R or M\n",
    "    \n",
    "    #encode the dependent variable\n",
    "    encode=LabelEncoder()\n",
    "    encode.fit(y)\n",
    "    y=encode.transform(y)\n",
    "    Y=one_hot_encode(y)\n",
    "    print(X.shape)\n",
    "    return (X,Y)"
   ]
  },
  {
   "cell_type": "code",
   "execution_count": 5,
   "metadata": {},
   "outputs": [],
   "source": [
    "def one_hot_encode(labels):\n",
    "    n_labels=len(labels)\n",
    "    n_unique_labels=len(np.unique(labels))\n",
    "    one_hot_encode=np.zeros((n_labels,n_unique_labels))\n",
    "    one_hot_encode[np.arange(n_labels),labels]=1\n",
    "    return one_hot_encode"
   ]
  },
  {
   "cell_type": "code",
   "execution_count": 6,
   "metadata": {},
   "outputs": [
    {
     "name": "stdout",
     "output_type": "stream",
     "text": [
      "(1372, 4)\n"
     ]
    }
   ],
   "source": [
    "X,Y=read_dataset()"
   ]
  },
  {
   "cell_type": "code",
   "execution_count": 7,
   "metadata": {},
   "outputs": [],
   "source": [
    "X,Y=shuffle(X,Y, random_state=1)                         #to shuffle the data or to mix columns & rows"
   ]
  },
  {
   "cell_type": "code",
   "execution_count": 8,
   "metadata": {},
   "outputs": [],
   "source": [
    "#train and test split\n",
    "train_x,test_x,train_y,test_y = train_test_split(X, Y, test_size=0.20, random_state=415)"
   ]
  },
  {
   "cell_type": "code",
   "execution_count": 9,
   "metadata": {},
   "outputs": [
    {
     "name": "stdout",
     "output_type": "stream",
     "text": [
      "(1097, 4)\n",
      "(1097, 2)\n",
      "(275, 4)\n"
     ]
    }
   ],
   "source": [
    "print(train_x.shape)\n",
    "print(train_y.shape)\n",
    "print(test_x.shape)"
   ]
  },
  {
   "cell_type": "code",
   "execution_count": 10,
   "metadata": {},
   "outputs": [
    {
     "name": "stdout",
     "output_type": "stream",
     "text": [
      "n_dim= 4\n"
     ]
    }
   ],
   "source": [
    "#Define the parameters\n",
    "learning_rate=0.3\n",
    "training_epochs=100\n",
    "cost_history=np.empty(shape=[1], dtype=float)\n",
    "n_dim=X.shape[1]\n",
    "print(\"n_dim=\",n_dim)\n",
    "n_class=2\n",
    "model_path=\"C:\\\\Users\\\\Parth Salke\""
   ]
  },
  {
   "cell_type": "code",
   "execution_count": 11,
   "metadata": {},
   "outputs": [],
   "source": [
    "#define number of hidden layers and no. of neurons\n",
    "n_hidden_1=10\n",
    "n_hidden_2=10\n",
    "n_hidden_3=10\n",
    "n_hidden_4=10"
   ]
  },
  {
   "cell_type": "code",
   "execution_count": 12,
   "metadata": {},
   "outputs": [],
   "source": [
    "x=tf.placeholder(tf.float32, [None,n_dim])\n",
    "W=tf.Variable(tf.zeros([n_dim, n_class]))\n",
    "b=tf.Variable(tf.zeros([n_class]))\n",
    "y_=tf.placeholder(tf.float32, [None,n_class])"
   ]
  },
  {
   "cell_type": "code",
   "execution_count": 13,
   "metadata": {},
   "outputs": [],
   "source": [
    "#define model\n",
    "def multilayer_perceptron(x,weights,biases):\n",
    "    \n",
    "    #hidden layer with activation function\n",
    "    layer_1=tf.add(tf.matmul(x,weights['h1']),biases['b1'])\n",
    "    layer_1=tf.nn.sigmoid(layer_1)\n",
    "    \n",
    "    #hidden layer with activation function\n",
    "    layer_2=tf.add(tf.matmul(layer_1,weights['h2']),biases['b2'])\n",
    "    layer_2=tf.nn.sigmoid(layer_2)\n",
    "    \n",
    "    #hidden layer with activation function\n",
    "    layer_3=tf.add(tf.matmul(layer_2,weights['h3']),biases['b3'])\n",
    "    layer_3=tf.nn.sigmoid(layer_3)\n",
    "    \n",
    "    #hidden layer with activation function\n",
    "    layer_4=tf.add(tf.matmul(layer_3,weights['h4']),biases['b4'])\n",
    "    layer_4=tf.nn.sigmoid(layer_4)\n",
    "    \n",
    "    #output layer with linear activation\n",
    "    out_layer=tf.matmul(layer_4,weights['out'])+biases['out']\n",
    "    return out_layer"
   ]
  },
  {
   "cell_type": "code",
   "execution_count": 14,
   "metadata": {},
   "outputs": [],
   "source": [
    "#define weights and biases for each layer\n",
    "weights={\n",
    "    'h1':tf.Variable(tf.truncated_normal([n_dim,n_hidden_1])),\n",
    "    'h2':tf.Variable(tf.truncated_normal([n_hidden_1,n_hidden_2])),\n",
    "    'h3':tf.Variable(tf.truncated_normal([n_hidden_2,n_hidden_3])),\n",
    "    'h4':tf.Variable(tf.truncated_normal([n_hidden_3,n_hidden_4])),\n",
    "    'out':tf.Variable(tf.truncated_normal([n_hidden_4,n_class]))\n",
    "}\n",
    "biases={\n",
    "    'b1':tf.Variable(tf.truncated_normal([n_hidden_1])),\n",
    "    'b2':tf.Variable(tf.truncated_normal([n_hidden_2])),\n",
    "    'b3':tf.Variable(tf.truncated_normal([n_hidden_3])),\n",
    "    'b4':tf.Variable(tf.truncated_normal([n_hidden_4])),\n",
    "    'out':tf.Variable(tf.truncated_normal([n_class]))\n",
    "}"
   ]
  },
  {
   "cell_type": "code",
   "execution_count": 15,
   "metadata": {},
   "outputs": [],
   "source": [
    "#initilize all variables\n",
    "init=tf.global_variables_initializer()\n",
    "saver=tf.train.Saver()"
   ]
  },
  {
   "cell_type": "code",
   "execution_count": 16,
   "metadata": {},
   "outputs": [],
   "source": [
    "#call model \n",
    "y=multilayer_perceptron(x,weights,biases)"
   ]
  },
  {
   "cell_type": "code",
   "execution_count": 18,
   "metadata": {},
   "outputs": [],
   "source": [
    "#Define loss and optimizer\n",
    "cost_function=tf.reduce_mean(tf.nn.softmax_cross_entropy_with_logits(logits=y, labels=y_))\n",
    "training_steps=tf.train.GradientDescentOptimizer(learning_rate).minimize(cost_function)"
   ]
  },
  {
   "cell_type": "code",
   "execution_count": 19,
   "metadata": {},
   "outputs": [],
   "source": [
    "sess=tf.Session()\n",
    "sess.run(init)"
   ]
  },
  {
   "cell_type": "code",
   "execution_count": 25,
   "metadata": {},
   "outputs": [
    {
     "name": "stdout",
     "output_type": "stream",
     "text": [
      "epoch:  0  -  cost:  0.14695655  - MSE:  3.020159948414111 -Train Accuracy:  0.976299\n",
      "epoch:  1  -  cost:  0.14388554  - MSE:  3.041420162201142 -Train Accuracy:  0.9772106\n",
      "epoch:  2  -  cost:  0.14090705  - MSE:  3.062752464759125 -Train Accuracy:  0.9772106\n",
      "epoch:  3  -  cost:  0.13801813  - MSE:  3.084149055922991 -Train Accuracy:  0.9772106\n",
      "epoch:  4  -  cost:  0.13521577  - MSE:  3.1056026570547863 -Train Accuracy:  0.9772106\n",
      "epoch:  5  -  cost:  0.13249715  - MSE:  3.127106329451986 -Train Accuracy:  0.9772106\n",
      "epoch:  6  -  cost:  0.12985942  - MSE:  3.1486528892918 -Train Accuracy:  0.9799453\n",
      "epoch:  7  -  cost:  0.12729986  - MSE:  3.1702355890215266 -Train Accuracy:  0.9808569\n",
      "epoch:  8  -  cost:  0.12481585  - MSE:  3.1918483560227204 -Train Accuracy:  0.9817685\n",
      "epoch:  9  -  cost:  0.12240485  - MSE:  3.21348439264011 -Train Accuracy:  0.9790337\n",
      "epoch:  10  -  cost:  0.12006437  - MSE:  3.235137812719393 -Train Accuracy:  0.9790337\n",
      "epoch:  11  -  cost:  0.11779211  - MSE:  3.2568024682599996 -Train Accuracy:  0.9799453\n",
      "epoch:  12  -  cost:  0.11558576  - MSE:  3.2784726059884477 -Train Accuracy:  0.9799453\n",
      "epoch:  13  -  cost:  0.11344315  - MSE:  3.300143012127366 -Train Accuracy:  0.9799453\n",
      "epoch:  14  -  cost:  0.11136221  - MSE:  3.3218084584213377 -Train Accuracy:  0.9799453\n",
      "epoch:  15  -  cost:  0.1093409  - MSE:  3.343463879870439 -Train Accuracy:  0.9799453\n",
      "epoch:  16  -  cost:  0.10737733  - MSE:  3.3651041723556716 -Train Accuracy:  0.9808569\n",
      "epoch:  17  -  cost:  0.10546961  - MSE:  3.3867248136470836 -Train Accuracy:  0.9808569\n",
      "epoch:  18  -  cost:  0.10361597  - MSE:  3.4083219672829275 -Train Accuracy:  0.9808569\n",
      "epoch:  19  -  cost:  0.10181468  - MSE:  3.4298906772501887 -Train Accuracy:  0.9808569\n",
      "epoch:  20  -  cost:  0.10006406  - MSE:  3.4514276553301424 -Train Accuracy:  0.9808569\n",
      "epoch:  21  -  cost:  0.09836255  - MSE:  3.472929170581979 -Train Accuracy:  0.9808569\n",
      "epoch:  22  -  cost:  0.096708566  - MSE:  3.494391329123112 -Train Accuracy:  0.9808569\n",
      "epoch:  23  -  cost:  0.0951006  - MSE:  3.515811065749511 -Train Accuracy:  0.9808569\n",
      "epoch:  24  -  cost:  0.093537204  - MSE:  3.53718509358333 -Train Accuracy:  0.9808569\n",
      "epoch:  25  -  cost:  0.09201696  - MSE:  3.558509823975212 -Train Accuracy:  0.9808569\n",
      "epoch:  26  -  cost:  0.0905385  - MSE:  3.5797835475945052 -Train Accuracy:  0.9808569\n",
      "epoch:  27  -  cost:  0.08910048  - MSE:  3.601003077488213 -Train Accuracy:  0.9808569\n",
      "epoch:  28  -  cost:  0.087701604  - MSE:  3.6221665144842095 -Train Accuracy:  0.9817685\n",
      "epoch:  29  -  cost:  0.086340636  - MSE:  3.643270891390852 -Train Accuracy:  0.98268\n",
      "epoch:  30  -  cost:  0.0850163  - MSE:  3.6643146566345464 -Train Accuracy:  0.98268\n",
      "epoch:  31  -  cost:  0.083727464  - MSE:  3.6852956936291172 -Train Accuracy:  0.98268\n",
      "epoch:  32  -  cost:  0.08247293  - MSE:  3.7062125207620524 -Train Accuracy:  0.98268\n",
      "epoch:  33  -  cost:  0.08125161  - MSE:  3.7270633758859666 -Train Accuracy:  0.9835916\n",
      "epoch:  34  -  cost:  0.080062374  - MSE:  3.7478463979414682 -Train Accuracy:  0.9845032\n",
      "epoch:  35  -  cost:  0.07890416  - MSE:  3.7685612133767377 -Train Accuracy:  0.9845032\n",
      "epoch:  36  -  cost:  0.077775955  - MSE:  3.7892059364055015 -Train Accuracy:  0.9845032\n",
      "epoch:  37  -  cost:  0.076676756  - MSE:  3.8097804474041244 -Train Accuracy:  0.9845032\n",
      "epoch:  38  -  cost:  0.07560558  - MSE:  3.8302828861270326 -Train Accuracy:  0.9845032\n",
      "epoch:  39  -  cost:  0.07456149  - MSE:  3.850712927437185 -Train Accuracy:  0.9845032\n",
      "epoch:  40  -  cost:  0.07354355  - MSE:  3.871070400662315 -Train Accuracy:  0.9845032\n",
      "epoch:  41  -  cost:  0.072550915  - MSE:  3.891353961215926 -Train Accuracy:  0.98541474\n",
      "epoch:  42  -  cost:  0.0715827  - MSE:  3.911563758957038 -Train Accuracy:  0.98541474\n",
      "epoch:  43  -  cost:  0.07063805  - MSE:  3.9316996866615246 -Train Accuracy:  0.98541474\n",
      "epoch:  44  -  cost:  0.069716185  - MSE:  3.951761186473465 -Train Accuracy:  0.98541474\n",
      "epoch:  45  -  cost:  0.068816334  - MSE:  3.971747751725595 -Train Accuracy:  0.98541474\n",
      "epoch:  46  -  cost:  0.06793772  - MSE:  3.9916601028651346 -Train Accuracy:  0.98541474\n",
      "epoch:  47  -  cost:  0.067079596  - MSE:  4.011497818626062 -Train Accuracy:  0.98632634\n",
      "epoch:  48  -  cost:  0.06624131  - MSE:  4.031260864933599 -Train Accuracy:  0.98632634\n",
      "epoch:  49  -  cost:  0.06542215  - MSE:  4.050949358773166 -Train Accuracy:  0.98632634\n",
      "epoch:  50  -  cost:  0.06462145  - MSE:  4.070563525219068 -Train Accuracy:  0.98632634\n",
      "epoch:  51  -  cost:  0.0638386  - MSE:  4.090103727639739 -Train Accuracy:  0.98723793\n",
      "epoch:  52  -  cost:  0.06307297  - MSE:  4.1095697207240764 -Train Accuracy:  0.98723793\n",
      "epoch:  53  -  cost:  0.06232398  - MSE:  4.1289620978657595 -Train Accuracy:  0.98723793\n",
      "epoch:  54  -  cost:  0.06159106  - MSE:  4.148280515999174 -Train Accuracy:  0.98723793\n",
      "epoch:  55  -  cost:  0.06087368  - MSE:  4.1675257247918065 -Train Accuracy:  0.98723793\n",
      "epoch:  56  -  cost:  0.060171295  - MSE:  4.186697512194744 -Train Accuracy:  0.98723793\n",
      "epoch:  57  -  cost:  0.059483398  - MSE:  4.205796328202068 -Train Accuracy:  0.98723793\n",
      "epoch:  58  -  cost:  0.058809515  - MSE:  4.224823010380485 -Train Accuracy:  0.98723793\n",
      "epoch:  59  -  cost:  0.058149174  - MSE:  4.243777083136573 -Train Accuracy:  0.98723793\n",
      "epoch:  60  -  cost:  0.057501934  - MSE:  4.26265929846286 -Train Accuracy:  0.98723793\n",
      "epoch:  61  -  cost:  0.056867342  - MSE:  4.281469438808231 -Train Accuracy:  0.98723793\n",
      "epoch:  62  -  cost:  0.056245003  - MSE:  4.300208266145253 -Train Accuracy:  0.98723793\n",
      "epoch:  63  -  cost:  0.055634517  - MSE:  4.318875419973123 -Train Accuracy:  0.98997265\n",
      "epoch:  64  -  cost:  0.055035494  - MSE:  4.337472009844359 -Train Accuracy:  0.98997265\n",
      "epoch:  65  -  cost:  0.05444756  - MSE:  4.355997792276094 -Train Accuracy:  0.98997265\n",
      "epoch:  66  -  cost:  0.053870384  - MSE:  4.3744536918444785 -Train Accuracy:  0.98997265\n",
      "epoch:  67  -  cost:  0.053303603  - MSE:  4.392839547827999 -Train Accuracy:  0.98997265\n",
      "epoch:  68  -  cost:  0.0527469  - MSE:  4.411155762954105 -Train Accuracy:  0.99088424\n",
      "epoch:  69  -  cost:  0.05219996  - MSE:  4.429402710589018 -Train Accuracy:  0.99088424\n",
      "epoch:  70  -  cost:  0.051662482  - MSE:  4.447580628174472 -Train Accuracy:  0.99088424\n",
      "epoch:  71  -  cost:  0.051134184  - MSE:  4.465689202622612 -Train Accuracy:  0.99088424\n",
      "epoch:  72  -  cost:  0.05061478  - MSE:  4.483730101202759 -Train Accuracy:  0.99088424\n",
      "epoch:  73  -  cost:  0.05010401  - MSE:  4.501703137943477 -Train Accuracy:  0.99088424\n",
      "epoch:  74  -  cost:  0.049601614  - MSE:  4.519608584870702 -Train Accuracy:  0.99088424\n",
      "epoch:  75  -  cost:  0.049107347  - MSE:  4.537446599938666 -Train Accuracy:  0.99088424\n",
      "epoch:  76  -  cost:  0.048620958  - MSE:  4.555217879884551 -Train Accuracy:  0.99088424\n",
      "epoch:  77  -  cost:  0.048142247  - MSE:  4.572922742762127 -Train Accuracy:  0.99088424\n",
      "epoch:  78  -  cost:  0.04767097  - MSE:  4.5905616554967805 -Train Accuracy:  0.99088424\n",
      "epoch:  79  -  cost:  0.047206935  - MSE:  4.608134927652246 -Train Accuracy:  0.99088424\n",
      "epoch:  80  -  cost:  0.04674992  - MSE:  4.6256428681109005 -Train Accuracy:  0.99088424\n",
      "epoch:  81  -  cost:  0.046299748  - MSE:  4.643086296622036 -Train Accuracy:  0.99088424\n",
      "epoch:  82  -  cost:  0.045856234  - MSE:  4.6604650284519 -Train Accuracy:  0.99088424\n",
      "epoch:  83  -  cost:  0.045419168  - MSE:  4.6777802004410916 -Train Accuracy:  0.99088424\n",
      "epoch:  84  -  cost:  0.04498842  - MSE:  4.695030874014819 -Train Accuracy:  0.99088424\n",
      "epoch:  85  -  cost:  0.044563804  - MSE:  4.712219397056483 -Train Accuracy:  0.99088424\n",
      "epoch:  86  -  cost:  0.044145156  - MSE:  4.729343742423885 -Train Accuracy:  0.99088424\n",
      "epoch:  87  -  cost:  0.04373233  - MSE:  4.746406273750617 -Train Accuracy:  0.99088424\n",
      "epoch:  88  -  cost:  0.043325175  - MSE:  4.763407196901998 -Train Accuracy:  0.99088424\n",
      "epoch:  89  -  cost:  0.042923555  - MSE:  4.780346496418295 -Train Accuracy:  0.99088424\n",
      "epoch:  90  -  cost:  0.042527314  - MSE:  4.797224943723743 -Train Accuracy:  0.99088424\n",
      "epoch:  91  -  cost:  0.042136338  - MSE:  4.814042938988192 -Train Accuracy:  0.99088424\n",
      "epoch:  92  -  cost:  0.041750506  - MSE:  4.830800815817305 -Train Accuracy:  0.99088424\n"
     ]
    },
    {
     "name": "stdout",
     "output_type": "stream",
     "text": [
      "epoch:  93  -  cost:  0.04136967  - MSE:  4.847498786775715 -Train Accuracy:  0.9917958\n",
      "epoch:  94  -  cost:  0.040993743  - MSE:  4.864137643776842 -Train Accuracy:  0.9917958\n",
      "epoch:  95  -  cost:  0.04062259  - MSE:  4.880717538542231 -Train Accuracy:  0.9917958\n",
      "epoch:  96  -  cost:  0.04025611  - MSE:  4.8972389491276 -Train Accuracy:  0.9917958\n",
      "epoch:  97  -  cost:  0.039894216  - MSE:  4.913702451434819 -Train Accuracy:  0.9917958\n",
      "epoch:  98  -  cost:  0.03953677  - MSE:  4.930108010624544 -Train Accuracy:  0.9917958\n",
      "epoch:  99  -  cost:  0.03918371  - MSE:  4.9464571746181845 -Train Accuracy:  0.9917958\n"
     ]
    }
   ],
   "source": [
    "#calculate loss and accuracy for each epoch\n",
    "mse_history=[]\n",
    "accuracy_history=[]\n",
    "\n",
    "for epoch in range(training_epochs):\n",
    "    sess.run(training_steps, feed_dict={x:train_x, y_: train_y}) \n",
    "    cost=sess.run(cost_function, feed_dict={x: train_x, y_: train_y}) \n",
    "    cost_history = np.append(cost_history, cost) \n",
    "    correct_prediction = tf.equal(tf.argmax (y, 1), tf.argmax (y_, 1))\n",
    "    accuracy = tf.reduce_mean(tf.cast(correct_prediction, tf.float32))\n",
    "    #print(\"Accuracy: \", (sess.run(accuracy, feed_dict=(x: test_x, y: test y))))\n",
    "    pred_y = sess.run(y, feed_dict={x: test_x})\n",
    "    mse= tf.reduce_mean(tf.square(pred_y-test_y))\n",
    "    mse_=sess.run(mse) \n",
    "    mse_history.append(mse_)\n",
    "    accuracy=(sess.run(accuracy, feed_dict={x:train_x, y_: train_y})) \n",
    "    accuracy_history.append(accuracy) \n",
    "    print(\"epoch: \", epoch, ' - ', 'cost: ', cost, \" - MSE: \", mse_, \"-Train Accuracy: \", accuracy)\n",
    "    "
   ]
  },
  {
   "cell_type": "code",
   "execution_count": 26,
   "metadata": {},
   "outputs": [
    {
     "data": {
      "image/png": "[encoded data removed]",
      "text/plain": [
       "<Figure size 432x288 with 1 Axes>"
      ]
     },
     "metadata": {
      "needs_background": "light"
     },
     "output_type": "display_data"
    },
    {
     "data": {
      "text/plain": [
       "<function matplotlib.pyplot.show(*args, **kw)>"
      ]
     },
     "execution_count": 26,
     "metadata": {},
     "output_type": "execute_result"
    },
    {
     "data": {
      "image/png": "[encoded data removed]",
      "text/plain": [
       "<Figure size 432x288 with 1 Axes>"
      ]
     },
     "metadata": {
      "needs_background": "light"
     },
     "output_type": "display_data"
    }
   ],
   "source": [
    "#plot mse and accuracy graph\n",
    "plt.plot(mse_history,'r')\n",
    "plt.title(\"Error Graph\")\n",
    "plt.xlabel(\"Cycles\")\n",
    "plt.ylabel(\"Mean square error\")\n",
    "plt.show()\n",
    "plt.plot(accuracy_history)\n",
    "plt.title(\"Accuracy Graph\")\n",
    "plt.xlabel(\"Cycles\")\n",
    "plt.ylabel(\"Accuracy\")\n",
    "plt.show"
   ]
  },
  {
   "cell_type": "code",
   "execution_count": 27,
   "metadata": {},
   "outputs": [
    {
     "name": "stdout",
     "output_type": "stream",
     "text": [
      "Test accuracy:  0.99636364\n"
     ]
    }
   ],
   "source": [
    "#print final accuracy\n",
    "correct_prediction=tf.equal(tf.argmax(y,1), tf.argmax(y_,1))\n",
    "accuracy=tf.reduce_mean(tf.cast(correct_prediction,tf.float32))\n",
    "print(\"Test accuracy: \", (sess.run(accuracy, feed_dict={x: test_x, y_:test_y})))"
   ]
  },
  {
   "cell_type": "code",
   "execution_count": 28,
   "metadata": {},
   "outputs": [
    {
     "name": "stdout",
     "output_type": "stream",
     "text": [
      "MSE: 4.9465\n"
     ]
    }
   ],
   "source": [
    "#Print final mean square error\n",
    "pred_y=sess.run(y,feed_dict={x:test_x})\n",
    "mse=tf.reduce_mean(tf.square(pred_y-test_y))\n",
    "print(\"MSE: %.4f\"% sess.run(mse))"
   ]
  },
  {
   "cell_type": "markdown",
   "metadata": {},
   "source": [
    "# Restore or test Dataset"
   ]
  },
  {
   "cell_type": "code",
   "execution_count": 29,
   "metadata": {},
   "outputs": [
    {
     "name": "stdout",
     "output_type": "stream",
     "text": [
      "(1372, 4)\n"
     ]
    }
   ],
   "source": [
    "import numpy as np\n",
    "import pandas as pd\n",
    "from sklearn.preprocessing import LabelEncoder\n",
    "def read_dataset():\n",
    "    df=pd.read_csv(\"C:\\\\Users\\\\Parth Salke\\\\Downloads\\\\Datasets\\\\banknotes.csv\")\n",
    "    X=df[df.columns[0:4]].values                   #sonar values from 1 to last column\n",
    "    y1=df[df.columns[4]]                            #last column value of R or M\n",
    "    #encode the dependent variable\n",
    "    encode=LabelEncoder()\n",
    "    encode.fit(y1)\n",
    "    y=encode.transform(y1)\n",
    "    Y=one_hot_encode(y)\n",
    "    print(X.shape)\n",
    "    return (X,Y,y1)\n",
    "def one_hot_encode(labels):\n",
    "    n_labels=len(labels)\n",
    "    n_unique_labels=len(np.unique(labels))\n",
    "    one_hot_encode=np.zeros((n_labels,n_unique_labels))\n",
    "    one_hot_encode[np.arange(n_labels),labels]=1\n",
    "    return one_hot_encode\n",
    "X,Y,y1=read_dataset()\n",
    "model_path=\"C:\\\\Users\\\\Parth Salke\"\n",
    "learning_rate=0.3\n",
    "training_epochs=100\n",
    "cost_history=np.empty(shape=[1], dtype=float)\n",
    "n_dim=4\n",
    "n_class=2\n"
   ]
  },
  {
   "cell_type": "code",
   "execution_count": 30,
   "metadata": {},
   "outputs": [],
   "source": [
    "#define number of hidden layers and no. of neurons\n",
    "n_hidden_1=10\n",
    "n_hidden_2=10\n",
    "n_hidden_3=10\n",
    "n_hidden_4=10\n",
    "x=tf.placeholder(tf.float32, [None,n_dim])\n",
    "W=tf.Variable(tf.zeros([n_dim, n_class]))\n",
    "b=tf.Variable(tf.zeros([n_class]))\n",
    "y_=tf.placeholder(tf.float32, [None,n_class])\n",
    "#define model\n",
    "def multilayer_perceptron(x,weights,biases):\n",
    "    \n",
    "    #hidden layer with activation function\n",
    "    layer_1=tf.add(tf.matmul(x,weights['h1']),biases['b1'])\n",
    "    layer_1=tf.nn.sigmoid(layer_1)\n",
    "    \n",
    "    #hidden layer with activation function\n",
    "    layer_2=tf.add(tf.matmul(layer_1,weights['h2']),biases['b2'])\n",
    "    layer_2=tf.nn.sigmoid(layer_2)\n",
    "    \n",
    "    #hidden layer with activation function\n",
    "    layer_3=tf.add(tf.matmul(layer_2,weights['h3']),biases['b3'])\n",
    "    layer_3=tf.nn.sigmoid(layer_3)\n",
    "    \n",
    "    #hidden layer with activation function\n",
    "    layer_4=tf.add(tf.matmul(layer_3,weights['h4']),biases['b4'])\n",
    "    layer_4=tf.nn.sigmoid(layer_4)\n",
    "    \n",
    "    #output layer with linear activation\n",
    "    out_layer=tf.matmul(layer_4,weights['out'])+biases['out']\n",
    "    return out_layer\n",
    "#define weights and biases for each layer\n",
    "weights={\n",
    "    'h1':tf.Variable(tf.truncated_normal([n_dim,n_hidden_1])),\n",
    "    'h2':tf.Variable(tf.truncated_normal([n_hidden_1,n_hidden_2])),\n",
    "    'h3':tf.Variable(tf.truncated_normal([n_hidden_2,n_hidden_3])),\n",
    "    'h4':tf.Variable(tf.truncated_normal([n_hidden_3,n_hidden_4])),\n",
    "    'out':tf.Variable(tf.truncated_normal([n_hidden_4,n_class]))\n",
    "}\n",
    "biases={\n",
    "    'b1':tf.Variable(tf.truncated_normal([n_hidden_1])),\n",
    "    'b2':tf.Variable(tf.truncated_normal([n_hidden_2])),\n",
    "    'b3':tf.Variable(tf.truncated_normal([n_hidden_3])),\n",
    "    'b4':tf.Variable(tf.truncated_normal([n_hidden_4])),\n",
    "    'out':tf.Variable(tf.truncated_normal([n_class]))\n",
    "}"
   ]
  },
  {
   "cell_type": "code",
   "execution_count": 31,
   "metadata": {},
   "outputs": [],
   "source": [
    "#initilize all variables\n",
    "init=tf.global_variables_initializer()\n",
    "saver=tf.train.Saver()\n",
    "#call model \n",
    "y=multilayer_perceptron(x,weights,biases)\n",
    "cost_function=tf.reduce_mean(tf.nn.softmax_cross_entropy_with_logits(logits=y, labels=y_))\n",
    "training_steps=tf.train.GradientDescentOptimizer(learning_rate).minimize(cost_function)"
   ]
  },
  {
   "cell_type": "code",
   "execution_count": 32,
   "metadata": {},
   "outputs": [
    {
     "name": "stdout",
     "output_type": "stream",
     "text": [
      "INFO:tensorflow:Restoring parameters from C:\\Users\\Parth Salke\n"
     ]
    },
    {
     "ename": "DataLossError",
     "evalue": "Graph execution error:\n\nDetected at node 'save_1/RestoreV2' defined at (most recent call last):\n    File \"C:\\Users\\Parth Salke\\anaconda3\\lib\\runpy.py\", line 194, in _run_module_as_main\n      return _run_code(code, main_globals, None,\n    File \"C:\\Users\\Parth Salke\\anaconda3\\lib\\runpy.py\", line 87, in _run_code\n      exec(code, run_globals)\n    File \"C:\\Users\\Parth Salke\\anaconda3\\lib\\site-packages\\ipykernel_launcher.py\", line 16, in <module>\n      app.launch_new_instance()\n    File \"C:\\Users\\Parth Salke\\anaconda3\\lib\\site-packages\\traitlets\\config\\application.py\", line 664, in launch_instance\n      app.start()\n    File \"C:\\Users\\Parth Salke\\anaconda3\\lib\\site-packages\\ipykernel\\kernelapp.py\", line 612, in start\n      self.io_loop.start()\n    File \"C:\\Users\\Parth Salke\\anaconda3\\lib\\site-packages\\tornado\\platform\\asyncio.py\", line 149, in start\n      self.asyncio_loop.run_forever()\n    File \"C:\\Users\\Parth Salke\\anaconda3\\lib\\asyncio\\base_events.py\", line 570, in run_forever\n      self._run_once()\n    File \"C:\\Users\\Parth Salke\\anaconda3\\lib\\asyncio\\base_events.py\", line 1859, in _run_once\n      handle._run()\n    File \"C:\\Users\\Parth Salke\\anaconda3\\lib\\asyncio\\events.py\", line 81, in _run\n      self._context.run(self._callback, *self._args)\n    File \"C:\\Users\\Parth Salke\\anaconda3\\lib\\site-packages\\tornado\\ioloop.py\", line 690, in <lambda>\n      lambda f: self._run_callback(functools.partial(callback, future))\n    File \"C:\\Users\\Parth Salke\\anaconda3\\lib\\site-packages\\tornado\\ioloop.py\", line 743, in _run_callback\n      ret = callback()\n    File \"C:\\Users\\Parth Salke\\anaconda3\\lib\\site-packages\\tornado\\gen.py\", line 787, in inner\n      self.run()\n    File \"C:\\Users\\Parth Salke\\anaconda3\\lib\\site-packages\\tornado\\gen.py\", line 748, in run\n      yielded = self.gen.send(value)\n    File \"C:\\Users\\Parth Salke\\anaconda3\\lib\\site-packages\\ipykernel\\kernelbase.py\", line 365, in process_one\n      yield gen.maybe_future(dispatch(*args))\n    File \"C:\\Users\\Parth Salke\\anaconda3\\lib\\site-packages\\tornado\\gen.py\", line 209, in wrapper\n      yielded = next(result)\n    File \"C:\\Users\\Parth Salke\\anaconda3\\lib\\site-packages\\ipykernel\\kernelbase.py\", line 268, in dispatch_shell\n      yield gen.maybe_future(handler(stream, idents, msg))\n    File \"C:\\Users\\Parth Salke\\anaconda3\\lib\\site-packages\\tornado\\gen.py\", line 209, in wrapper\n      yielded = next(result)\n    File \"C:\\Users\\Parth Salke\\anaconda3\\lib\\site-packages\\ipykernel\\kernelbase.py\", line 543, in execute_request\n      self.do_execute(\n    File \"C:\\Users\\Parth Salke\\anaconda3\\lib\\site-packages\\tornado\\gen.py\", line 209, in wrapper\n      yielded = next(result)\n    File \"C:\\Users\\Parth Salke\\anaconda3\\lib\\site-packages\\ipykernel\\ipkernel.py\", line 306, in do_execute\n      res = shell.run_cell(code, store_history=store_history, silent=silent)\n    File \"C:\\Users\\Parth Salke\\anaconda3\\lib\\site-packages\\ipykernel\\zmqshell.py\", line 536, in run_cell\n      return super(ZMQInteractiveShell, self).run_cell(*args, **kwargs)\n    File \"C:\\Users\\Parth Salke\\anaconda3\\lib\\site-packages\\IPython\\core\\interactiveshell.py\", line 2866, in run_cell\n      result = self._run_cell(\n    File \"C:\\Users\\Parth Salke\\anaconda3\\lib\\site-packages\\IPython\\core\\interactiveshell.py\", line 2895, in _run_cell\n      return runner(coro)\n    File \"C:\\Users\\Parth Salke\\anaconda3\\lib\\site-packages\\IPython\\core\\async_helpers.py\", line 68, in _pseudo_sync_runner\n      coro.send(None)\n    File \"C:\\Users\\Parth Salke\\anaconda3\\lib\\site-packages\\IPython\\core\\interactiveshell.py\", line 3071, in run_cell_async\n      has_raised = await self.run_ast_nodes(code_ast.body, cell_name,\n    File \"C:\\Users\\Parth Salke\\anaconda3\\lib\\site-packages\\IPython\\core\\interactiveshell.py\", line 3263, in run_ast_nodes\n      if (await self.run_code(code, result,  async_=asy)):\n    File \"C:\\Users\\Parth Salke\\anaconda3\\lib\\site-packages\\IPython\\core\\interactiveshell.py\", line 3343, in run_code\n      exec(code_obj, self.user_global_ns, self.user_ns)\n    File \"<ipython-input-31-18f2727b746f>\", line 3, in <module>\n      saver=tf.train.Saver()\nNode: 'save_1/RestoreV2'\nUnable to open table file C:\\Users\\Parth Salke: UNKNOWN: NewRandomAccessFile failed to Create/Open: C:\\Users\\Parth Salke : Access is denied.\r\n; Input/output error\n\t [[{{node save_1/RestoreV2}}]]\n\nOriginal stack trace for 'save_1/RestoreV2':\n  File \"C:\\Users\\Parth Salke\\anaconda3\\lib\\runpy.py\", line 194, in _run_module_as_main\n    return _run_code(code, main_globals, None,\n  File \"C:\\Users\\Parth Salke\\anaconda3\\lib\\runpy.py\", line 87, in _run_code\n    exec(code, run_globals)\n  File \"C:\\Users\\Parth Salke\\anaconda3\\lib\\site-packages\\ipykernel_launcher.py\", line 16, in <module>\n    app.launch_new_instance()\n  File \"C:\\Users\\Parth Salke\\anaconda3\\lib\\site-packages\\traitlets\\config\\application.py\", line 664, in launch_instance\n    app.start()\n  File \"C:\\Users\\Parth Salke\\anaconda3\\lib\\site-packages\\ipykernel\\kernelapp.py\", line 612, in start\n    self.io_loop.start()\n  File \"C:\\Users\\Parth Salke\\anaconda3\\lib\\site-packages\\tornado\\platform\\asyncio.py\", line 149, in start\n    self.asyncio_loop.run_forever()\n  File \"C:\\Users\\Parth Salke\\anaconda3\\lib\\asyncio\\base_events.py\", line 570, in run_forever\n    self._run_once()\n  File \"C:\\Users\\Parth Salke\\anaconda3\\lib\\asyncio\\base_events.py\", line 1859, in _run_once\n    handle._run()\n  File \"C:\\Users\\Parth Salke\\anaconda3\\lib\\asyncio\\events.py\", line 81, in _run\n    self._context.run(self._callback, *self._args)\n  File \"C:\\Users\\Parth Salke\\anaconda3\\lib\\site-packages\\tornado\\ioloop.py\", line 690, in <lambda>\n    lambda f: self._run_callback(functools.partial(callback, future))\n  File \"C:\\Users\\Parth Salke\\anaconda3\\lib\\site-packages\\tornado\\ioloop.py\", line 743, in _run_callback\n    ret = callback()\n  File \"C:\\Users\\Parth Salke\\anaconda3\\lib\\site-packages\\tornado\\gen.py\", line 787, in inner\n    self.run()\n  File \"C:\\Users\\Parth Salke\\anaconda3\\lib\\site-packages\\tornado\\gen.py\", line 748, in run\n    yielded = self.gen.send(value)\n  File \"C:\\Users\\Parth Salke\\anaconda3\\lib\\site-packages\\ipykernel\\kernelbase.py\", line 365, in process_one\n    yield gen.maybe_future(dispatch(*args))\n  File \"C:\\Users\\Parth Salke\\anaconda3\\lib\\site-packages\\tornado\\gen.py\", line 209, in wrapper\n    yielded = next(result)\n  File \"C:\\Users\\Parth Salke\\anaconda3\\lib\\site-packages\\ipykernel\\kernelbase.py\", line 268, in dispatch_shell\n    yield gen.maybe_future(handler(stream, idents, msg))\n  File \"C:\\Users\\Parth Salke\\anaconda3\\lib\\site-packages\\tornado\\gen.py\", line 209, in wrapper\n    yielded = next(result)\n  File \"C:\\Users\\Parth Salke\\anaconda3\\lib\\site-packages\\ipykernel\\kernelbase.py\", line 543, in execute_request\n    self.do_execute(\n  File \"C:\\Users\\Parth Salke\\anaconda3\\lib\\site-packages\\tornado\\gen.py\", line 209, in wrapper\n    yielded = next(result)\n  File \"C:\\Users\\Parth Salke\\anaconda3\\lib\\site-packages\\ipykernel\\ipkernel.py\", line 306, in do_execute\n    res = shell.run_cell(code, store_history=store_history, silent=silent)\n  File \"C:\\Users\\Parth Salke\\anaconda3\\lib\\site-packages\\ipykernel\\zmqshell.py\", line 536, in run_cell\n    return super(ZMQInteractiveShell, self).run_cell(*args, **kwargs)\n  File \"C:\\Users\\Parth Salke\\anaconda3\\lib\\site-packages\\IPython\\core\\interactiveshell.py\", line 2866, in run_cell\n    result = self._run_cell(\n  File \"C:\\Users\\Parth Salke\\anaconda3\\lib\\site-packages\\IPython\\core\\interactiveshell.py\", line 2895, in _run_cell\n    return runner(coro)\n  File \"C:\\Users\\Parth Salke\\anaconda3\\lib\\site-packages\\IPython\\core\\async_helpers.py\", line 68, in _pseudo_sync_runner\n    coro.send(None)\n  File \"C:\\Users\\Parth Salke\\anaconda3\\lib\\site-packages\\IPython\\core\\interactiveshell.py\", line 3071, in run_cell_async\n    has_raised = await self.run_ast_nodes(code_ast.body, cell_name,\n  File \"C:\\Users\\Parth Salke\\anaconda3\\lib\\site-packages\\IPython\\core\\interactiveshell.py\", line 3263, in run_ast_nodes\n    if (await self.run_code(code, result,  async_=asy)):\n  File \"C:\\Users\\Parth Salke\\anaconda3\\lib\\site-packages\\IPython\\core\\interactiveshell.py\", line 3343, in run_code\n    exec(code_obj, self.user_global_ns, self.user_ns)\n  File \"<ipython-input-31-18f2727b746f>\", line 3, in <module>\n    saver=tf.train.Saver()\n  File \"C:\\Users\\Parth Salke\\anaconda3\\lib\\site-packages\\tensorflow\\python\\training\\saver.py\", line 919, in __init__\n    self.build()\n  File \"C:\\Users\\Parth Salke\\anaconda3\\lib\\site-packages\\tensorflow\\python\\training\\saver.py\", line 931, in build\n    self._build(self._filename, build_save=True, build_restore=True)\n  File \"C:\\Users\\Parth Salke\\anaconda3\\lib\\site-packages\\tensorflow\\python\\training\\saver.py\", line 959, in _build\n    self.saver_def = self._builder._build_internal(  # pylint: disable=protected-access\n  File \"C:\\Users\\Parth Salke\\anaconda3\\lib\\site-packages\\tensorflow\\python\\training\\saver.py\", line 529, in _build_internal\n    restore_op = self._AddRestoreOps(filename_tensor, saveables,\n  File \"C:\\Users\\Parth Salke\\anaconda3\\lib\\site-packages\\tensorflow\\python\\training\\saver.py\", line 349, in _AddRestoreOps\n    all_tensors = self.bulk_restore(filename_tensor, saveables, preferred_shard,\n  File \"C:\\Users\\Parth Salke\\anaconda3\\lib\\site-packages\\tensorflow\\python\\training\\saver.py\", line 597, in bulk_restore\n    return io_ops.restore_v2(filename_tensor, names, slices, dtypes)\n  File \"C:\\Users\\Parth Salke\\anaconda3\\lib\\site-packages\\tensorflow\\python\\ops\\gen_io_ops.py\", line 1500, in restore_v2\n    _, _, _op, _outputs = _op_def_library._apply_op_helper(\n  File \"C:\\Users\\Parth Salke\\anaconda3\\lib\\site-packages\\tensorflow\\python\\framework\\op_def_library.py\", line 740, in _apply_op_helper\n    op = g._create_op_internal(op_type_name, inputs, dtypes=None,\n  File \"C:\\Users\\Parth Salke\\anaconda3\\lib\\site-packages\\tensorflow\\python\\framework\\ops.py\", line 3776, in _create_op_internal\n    ret = Operation(\n  File \"C:\\Users\\Parth Salke\\anaconda3\\lib\\site-packages\\tensorflow\\python\\framework\\ops.py\", line 2175, in __init__\n    self._traceback = tf_stack.extract_stack_for_node(self._c_op)\n",
     "output_type": "error",
     "traceback": [
      "\u001b[1;31m---------------------------------------------------------------------------\u001b[0m",
      "\u001b[1;31mDataLossError\u001b[0m                             Traceback (most recent call last)",
      "\u001b[1;32m~\\anaconda3\\lib\\site-packages\\tensorflow\\python\\client\\session.py\u001b[0m in \u001b[0;36m_do_call\u001b[1;34m(self, fn, *args)\u001b[0m\n\u001b[0;32m   1376\u001b[0m     \u001b[1;32mtry\u001b[0m\u001b[1;33m:\u001b[0m\u001b[1;33m\u001b[0m\u001b[1;33m\u001b[0m\u001b[0m\n\u001b[1;32m-> 1377\u001b[1;33m       \u001b[1;32mreturn\u001b[0m \u001b[0mfn\u001b[0m\u001b[1;33m(\u001b[0m\u001b[1;33m*\u001b[0m\u001b[0margs\u001b[0m\u001b[1;33m)\u001b[0m\u001b[1;33m\u001b[0m\u001b[1;33m\u001b[0m\u001b[0m\n\u001b[0m\u001b[0;32m   1378\u001b[0m     \u001b[1;32mexcept\u001b[0m \u001b[0merrors\u001b[0m\u001b[1;33m.\u001b[0m\u001b[0mOpError\u001b[0m \u001b[1;32mas\u001b[0m \u001b[0me\u001b[0m\u001b[1;33m:\u001b[0m\u001b[1;33m\u001b[0m\u001b[1;33m\u001b[0m\u001b[0m\n",
      "\u001b[1;32m~\\anaconda3\\lib\\site-packages\\tensorflow\\python\\client\\session.py\u001b[0m in \u001b[0;36m_run_fn\u001b[1;34m(feed_dict, fetch_list, target_list, options, run_metadata)\u001b[0m\n\u001b[0;32m   1359\u001b[0m       \u001b[0mself\u001b[0m\u001b[1;33m.\u001b[0m\u001b[0m_extend_graph\u001b[0m\u001b[1;33m(\u001b[0m\u001b[1;33m)\u001b[0m\u001b[1;33m\u001b[0m\u001b[1;33m\u001b[0m\u001b[0m\n\u001b[1;32m-> 1360\u001b[1;33m       return self._call_tf_sessionrun(options, feed_dict, fetch_list,\n\u001b[0m\u001b[0;32m   1361\u001b[0m                                       target_list, run_metadata)\n",
      "\u001b[1;32m~\\anaconda3\\lib\\site-packages\\tensorflow\\python\\client\\session.py\u001b[0m in \u001b[0;36m_call_tf_sessionrun\u001b[1;34m(self, options, feed_dict, fetch_list, target_list, run_metadata)\u001b[0m\n\u001b[0;32m   1452\u001b[0m                           run_metadata):\n\u001b[1;32m-> 1453\u001b[1;33m     return tf_session.TF_SessionRun_wrapper(self._session, options, feed_dict,\n\u001b[0m\u001b[0;32m   1454\u001b[0m                                             \u001b[0mfetch_list\u001b[0m\u001b[1;33m,\u001b[0m \u001b[0mtarget_list\u001b[0m\u001b[1;33m,\u001b[0m\u001b[1;33m\u001b[0m\u001b[1;33m\u001b[0m\u001b[0m\n",
      "\u001b[1;31mDataLossError\u001b[0m: Unable to open table file C:\\Users\\Parth Salke: UNKNOWN: NewRandomAccessFile failed to Create/Open: C:\\Users\\Parth Salke : Access is denied.\r\n; Input/output error\n\t [[{{node save_1/RestoreV2}}]]",
      "\nDuring handling of the above exception, another exception occurred:\n",
      "\u001b[1;31mDataLossError\u001b[0m                             Traceback (most recent call last)",
      "\u001b[1;32m<ipython-input-32-7874852f740d>\u001b[0m in \u001b[0;36m<module>\u001b[1;34m\u001b[0m\n\u001b[0;32m      1\u001b[0m \u001b[0msess\u001b[0m\u001b[1;33m=\u001b[0m\u001b[0mtf\u001b[0m\u001b[1;33m.\u001b[0m\u001b[0mSession\u001b[0m\u001b[1;33m(\u001b[0m\u001b[1;33m)\u001b[0m\u001b[1;33m\u001b[0m\u001b[1;33m\u001b[0m\u001b[0m\n\u001b[0;32m      2\u001b[0m \u001b[0msess\u001b[0m\u001b[1;33m.\u001b[0m\u001b[0mrun\u001b[0m\u001b[1;33m(\u001b[0m\u001b[0minit\u001b[0m\u001b[1;33m)\u001b[0m\u001b[1;33m\u001b[0m\u001b[1;33m\u001b[0m\u001b[0m\n\u001b[1;32m----> 3\u001b[1;33m \u001b[0msaver\u001b[0m\u001b[1;33m.\u001b[0m\u001b[0mrestore\u001b[0m\u001b[1;33m(\u001b[0m\u001b[0msess\u001b[0m\u001b[1;33m,\u001b[0m\u001b[0mmodel_path\u001b[0m\u001b[1;33m)\u001b[0m\u001b[1;33m\u001b[0m\u001b[1;33m\u001b[0m\u001b[0m\n\u001b[0m",
      "\u001b[1;32m~\\anaconda3\\lib\\site-packages\\tensorflow\\python\\training\\saver.py\u001b[0m in \u001b[0;36mrestore\u001b[1;34m(self, sess, save_path)\u001b[0m\n\u001b[0;32m   1398\u001b[0m         \u001b[0mself\u001b[0m\u001b[1;33m.\u001b[0m\u001b[0m_build_eager\u001b[0m\u001b[1;33m(\u001b[0m\u001b[0msave_path\u001b[0m\u001b[1;33m,\u001b[0m \u001b[0mbuild_save\u001b[0m\u001b[1;33m=\u001b[0m\u001b[1;32mFalse\u001b[0m\u001b[1;33m,\u001b[0m \u001b[0mbuild_restore\u001b[0m\u001b[1;33m=\u001b[0m\u001b[1;32mTrue\u001b[0m\u001b[1;33m)\u001b[0m\u001b[1;33m\u001b[0m\u001b[1;33m\u001b[0m\u001b[0m\n\u001b[0;32m   1399\u001b[0m       \u001b[1;32melse\u001b[0m\u001b[1;33m:\u001b[0m\u001b[1;33m\u001b[0m\u001b[1;33m\u001b[0m\u001b[0m\n\u001b[1;32m-> 1400\u001b[1;33m         sess.run(self.saver_def.restore_op_name,\n\u001b[0m\u001b[0;32m   1401\u001b[0m                  {self.saver_def.filename_tensor_name: save_path})\n\u001b[0;32m   1402\u001b[0m     \u001b[1;32mexcept\u001b[0m \u001b[0merrors\u001b[0m\u001b[1;33m.\u001b[0m\u001b[0mNotFoundError\u001b[0m \u001b[1;32mas\u001b[0m \u001b[0merr\u001b[0m\u001b[1;33m:\u001b[0m\u001b[1;33m\u001b[0m\u001b[1;33m\u001b[0m\u001b[0m\n",
      "\u001b[1;32m~\\anaconda3\\lib\\site-packages\\tensorflow\\python\\client\\session.py\u001b[0m in \u001b[0;36mrun\u001b[1;34m(self, fetches, feed_dict, options, run_metadata)\u001b[0m\n\u001b[0;32m    965\u001b[0m \u001b[1;33m\u001b[0m\u001b[0m\n\u001b[0;32m    966\u001b[0m     \u001b[1;32mtry\u001b[0m\u001b[1;33m:\u001b[0m\u001b[1;33m\u001b[0m\u001b[1;33m\u001b[0m\u001b[0m\n\u001b[1;32m--> 967\u001b[1;33m       result = self._run(None, fetches, feed_dict, options_ptr,\n\u001b[0m\u001b[0;32m    968\u001b[0m                          run_metadata_ptr)\n\u001b[0;32m    969\u001b[0m       \u001b[1;32mif\u001b[0m \u001b[0mrun_metadata\u001b[0m\u001b[1;33m:\u001b[0m\u001b[1;33m\u001b[0m\u001b[1;33m\u001b[0m\u001b[0m\n",
      "\u001b[1;32m~\\anaconda3\\lib\\site-packages\\tensorflow\\python\\client\\session.py\u001b[0m in \u001b[0;36m_run\u001b[1;34m(self, handle, fetches, feed_dict, options, run_metadata)\u001b[0m\n\u001b[0;32m   1188\u001b[0m     \u001b[1;31m# or if the call is a partial run that specifies feeds.\u001b[0m\u001b[1;33m\u001b[0m\u001b[1;33m\u001b[0m\u001b[1;33m\u001b[0m\u001b[0m\n\u001b[0;32m   1189\u001b[0m     \u001b[1;32mif\u001b[0m \u001b[0mfinal_fetches\u001b[0m \u001b[1;32mor\u001b[0m \u001b[0mfinal_targets\u001b[0m \u001b[1;32mor\u001b[0m \u001b[1;33m(\u001b[0m\u001b[0mhandle\u001b[0m \u001b[1;32mand\u001b[0m \u001b[0mfeed_dict_tensor\u001b[0m\u001b[1;33m)\u001b[0m\u001b[1;33m:\u001b[0m\u001b[1;33m\u001b[0m\u001b[1;33m\u001b[0m\u001b[0m\n\u001b[1;32m-> 1190\u001b[1;33m       results = self._do_run(handle, final_targets, final_fetches,\n\u001b[0m\u001b[0;32m   1191\u001b[0m                              feed_dict_tensor, options, run_metadata)\n\u001b[0;32m   1192\u001b[0m     \u001b[1;32melse\u001b[0m\u001b[1;33m:\u001b[0m\u001b[1;33m\u001b[0m\u001b[1;33m\u001b[0m\u001b[0m\n",
      "\u001b[1;32m~\\anaconda3\\lib\\site-packages\\tensorflow\\python\\client\\session.py\u001b[0m in \u001b[0;36m_do_run\u001b[1;34m(self, handle, target_list, fetch_list, feed_dict, options, run_metadata)\u001b[0m\n\u001b[0;32m   1368\u001b[0m \u001b[1;33m\u001b[0m\u001b[0m\n\u001b[0;32m   1369\u001b[0m     \u001b[1;32mif\u001b[0m \u001b[0mhandle\u001b[0m \u001b[1;32mis\u001b[0m \u001b[1;32mNone\u001b[0m\u001b[1;33m:\u001b[0m\u001b[1;33m\u001b[0m\u001b[1;33m\u001b[0m\u001b[0m\n\u001b[1;32m-> 1370\u001b[1;33m       return self._do_call(_run_fn, feeds, fetches, targets, options,\n\u001b[0m\u001b[0;32m   1371\u001b[0m                            run_metadata)\n\u001b[0;32m   1372\u001b[0m     \u001b[1;32melse\u001b[0m\u001b[1;33m:\u001b[0m\u001b[1;33m\u001b[0m\u001b[1;33m\u001b[0m\u001b[0m\n",
      "\u001b[1;32m~\\anaconda3\\lib\\site-packages\\tensorflow\\python\\client\\session.py\u001b[0m in \u001b[0;36m_do_call\u001b[1;34m(self, fn, *args)\u001b[0m\n\u001b[0;32m   1394\u001b[0m                     \u001b[1;34m'\\nsession_config.graph_options.rewrite_options.'\u001b[0m\u001b[1;33m\u001b[0m\u001b[1;33m\u001b[0m\u001b[0m\n\u001b[0;32m   1395\u001b[0m                     'disable_meta_optimizer = True')\n\u001b[1;32m-> 1396\u001b[1;33m       \u001b[1;32mraise\u001b[0m \u001b[0mtype\u001b[0m\u001b[1;33m(\u001b[0m\u001b[0me\u001b[0m\u001b[1;33m)\u001b[0m\u001b[1;33m(\u001b[0m\u001b[0mnode_def\u001b[0m\u001b[1;33m,\u001b[0m \u001b[0mop\u001b[0m\u001b[1;33m,\u001b[0m \u001b[0mmessage\u001b[0m\u001b[1;33m)\u001b[0m  \u001b[1;31m# pylint: disable=no-value-for-parameter\u001b[0m\u001b[1;33m\u001b[0m\u001b[1;33m\u001b[0m\u001b[0m\n\u001b[0m\u001b[0;32m   1397\u001b[0m \u001b[1;33m\u001b[0m\u001b[0m\n\u001b[0;32m   1398\u001b[0m   \u001b[1;32mdef\u001b[0m \u001b[0m_extend_graph\u001b[0m\u001b[1;33m(\u001b[0m\u001b[0mself\u001b[0m\u001b[1;33m)\u001b[0m\u001b[1;33m:\u001b[0m\u001b[1;33m\u001b[0m\u001b[1;33m\u001b[0m\u001b[0m\n",
      "\u001b[1;31mDataLossError\u001b[0m: Graph execution error:\n\nDetected at node 'save_1/RestoreV2' defined at (most recent call last):\n    File \"C:\\Users\\Parth Salke\\anaconda3\\lib\\runpy.py\", line 194, in _run_module_as_main\n      return _run_code(code, main_globals, None,\n    File \"C:\\Users\\Parth Salke\\anaconda3\\lib\\runpy.py\", line 87, in _run_code\n      exec(code, run_globals)\n    File \"C:\\Users\\Parth Salke\\anaconda3\\lib\\site-packages\\ipykernel_launcher.py\", line 16, in <module>\n      app.launch_new_instance()\n    File \"C:\\Users\\Parth Salke\\anaconda3\\lib\\site-packages\\traitlets\\config\\application.py\", line 664, in launch_instance\n      app.start()\n    File \"C:\\Users\\Parth Salke\\anaconda3\\lib\\site-packages\\ipykernel\\kernelapp.py\", line 612, in start\n      self.io_loop.start()\n    File \"C:\\Users\\Parth Salke\\anaconda3\\lib\\site-packages\\tornado\\platform\\asyncio.py\", line 149, in start\n      self.asyncio_loop.run_forever()\n    File \"C:\\Users\\Parth Salke\\anaconda3\\lib\\asyncio\\base_events.py\", line 570, in run_forever\n      self._run_once()\n    File \"C:\\Users\\Parth Salke\\anaconda3\\lib\\asyncio\\base_events.py\", line 1859, in _run_once\n      handle._run()\n    File \"C:\\Users\\Parth Salke\\anaconda3\\lib\\asyncio\\events.py\", line 81, in _run\n      self._context.run(self._callback, *self._args)\n    File \"C:\\Users\\Parth Salke\\anaconda3\\lib\\site-packages\\tornado\\ioloop.py\", line 690, in <lambda>\n      lambda f: self._run_callback(functools.partial(callback, future))\n    File \"C:\\Users\\Parth Salke\\anaconda3\\lib\\site-packages\\tornado\\ioloop.py\", line 743, in _run_callback\n      ret = callback()\n    File \"C:\\Users\\Parth Salke\\anaconda3\\lib\\site-packages\\tornado\\gen.py\", line 787, in inner\n      self.run()\n    File \"C:\\Users\\Parth Salke\\anaconda3\\lib\\site-packages\\tornado\\gen.py\", line 748, in run\n      yielded = self.gen.send(value)\n    File \"C:\\Users\\Parth Salke\\anaconda3\\lib\\site-packages\\ipykernel\\kernelbase.py\", line 365, in process_one\n      yield gen.maybe_future(dispatch(*args))\n    File \"C:\\Users\\Parth Salke\\anaconda3\\lib\\site-packages\\tornado\\gen.py\", line 209, in wrapper\n      yielded = next(result)\n    File \"C:\\Users\\Parth Salke\\anaconda3\\lib\\site-packages\\ipykernel\\kernelbase.py\", line 268, in dispatch_shell\n      yield gen.maybe_future(handler(stream, idents, msg))\n    File \"C:\\Users\\Parth Salke\\anaconda3\\lib\\site-packages\\tornado\\gen.py\", line 209, in wrapper\n      yielded = next(result)\n    File \"C:\\Users\\Parth Salke\\anaconda3\\lib\\site-packages\\ipykernel\\kernelbase.py\", line 543, in execute_request\n      self.do_execute(\n    File \"C:\\Users\\Parth Salke\\anaconda3\\lib\\site-packages\\tornado\\gen.py\", line 209, in wrapper\n      yielded = next(result)\n    File \"C:\\Users\\Parth Salke\\anaconda3\\lib\\site-packages\\ipykernel\\ipkernel.py\", line 306, in do_execute\n      res = shell.run_cell(code, store_history=store_history, silent=silent)\n    File \"C:\\Users\\Parth Salke\\anaconda3\\lib\\site-packages\\ipykernel\\zmqshell.py\", line 536, in run_cell\n      return super(ZMQInteractiveShell, self).run_cell(*args, **kwargs)\n    File \"C:\\Users\\Parth Salke\\anaconda3\\lib\\site-packages\\IPython\\core\\interactiveshell.py\", line 2866, in run_cell\n      result = self._run_cell(\n    File \"C:\\Users\\Parth Salke\\anaconda3\\lib\\site-packages\\IPython\\core\\interactiveshell.py\", line 2895, in _run_cell\n      return runner(coro)\n    File \"C:\\Users\\Parth Salke\\anaconda3\\lib\\site-packages\\IPython\\core\\async_helpers.py\", line 68, in _pseudo_sync_runner\n      coro.send(None)\n    File \"C:\\Users\\Parth Salke\\anaconda3\\lib\\site-packages\\IPython\\core\\interactiveshell.py\", line 3071, in run_cell_async\n      has_raised = await self.run_ast_nodes(code_ast.body, cell_name,\n    File \"C:\\Users\\Parth Salke\\anaconda3\\lib\\site-packages\\IPython\\core\\interactiveshell.py\", line 3263, in run_ast_nodes\n      if (await self.run_code(code, result,  async_=asy)):\n    File \"C:\\Users\\Parth Salke\\anaconda3\\lib\\site-packages\\IPython\\core\\interactiveshell.py\", line 3343, in run_code\n      exec(code_obj, self.user_global_ns, self.user_ns)\n    File \"<ipython-input-31-18f2727b746f>\", line 3, in <module>\n      saver=tf.train.Saver()\nNode: 'save_1/RestoreV2'\nUnable to open table file C:\\Users\\Parth Salke: UNKNOWN: NewRandomAccessFile failed to Create/Open: C:\\Users\\Parth Salke : Access is denied.\r\n; Input/output error\n\t [[{{node save_1/RestoreV2}}]]\n\nOriginal stack trace for 'save_1/RestoreV2':\n  File \"C:\\Users\\Parth Salke\\anaconda3\\lib\\runpy.py\", line 194, in _run_module_as_main\n    return _run_code(code, main_globals, None,\n  File \"C:\\Users\\Parth Salke\\anaconda3\\lib\\runpy.py\", line 87, in _run_code\n    exec(code, run_globals)\n  File \"C:\\Users\\Parth Salke\\anaconda3\\lib\\site-packages\\ipykernel_launcher.py\", line 16, in <module>\n    app.launch_new_instance()\n  File \"C:\\Users\\Parth Salke\\anaconda3\\lib\\site-packages\\traitlets\\config\\application.py\", line 664, in launch_instance\n    app.start()\n  File \"C:\\Users\\Parth Salke\\anaconda3\\lib\\site-packages\\ipykernel\\kernelapp.py\", line 612, in start\n    self.io_loop.start()\n  File \"C:\\Users\\Parth Salke\\anaconda3\\lib\\site-packages\\tornado\\platform\\asyncio.py\", line 149, in start\n    self.asyncio_loop.run_forever()\n  File \"C:\\Users\\Parth Salke\\anaconda3\\lib\\asyncio\\base_events.py\", line 570, in run_forever\n    self._run_once()\n  File \"C:\\Users\\Parth Salke\\anaconda3\\lib\\asyncio\\base_events.py\", line 1859, in _run_once\n    handle._run()\n  File \"C:\\Users\\Parth Salke\\anaconda3\\lib\\asyncio\\events.py\", line 81, in _run\n    self._context.run(self._callback, *self._args)\n  File \"C:\\Users\\Parth Salke\\anaconda3\\lib\\site-packages\\tornado\\ioloop.py\", line 690, in <lambda>\n    lambda f: self._run_callback(functools.partial(callback, future))\n  File \"C:\\Users\\Parth Salke\\anaconda3\\lib\\site-packages\\tornado\\ioloop.py\", line 743, in _run_callback\n    ret = callback()\n  File \"C:\\Users\\Parth Salke\\anaconda3\\lib\\site-packages\\tornado\\gen.py\", line 787, in inner\n    self.run()\n  File \"C:\\Users\\Parth Salke\\anaconda3\\lib\\site-packages\\tornado\\gen.py\", line 748, in run\n    yielded = self.gen.send(value)\n  File \"C:\\Users\\Parth Salke\\anaconda3\\lib\\site-packages\\ipykernel\\kernelbase.py\", line 365, in process_one\n    yield gen.maybe_future(dispatch(*args))\n  File \"C:\\Users\\Parth Salke\\anaconda3\\lib\\site-packages\\tornado\\gen.py\", line 209, in wrapper\n    yielded = next(result)\n  File \"C:\\Users\\Parth Salke\\anaconda3\\lib\\site-packages\\ipykernel\\kernelbase.py\", line 268, in dispatch_shell\n    yield gen.maybe_future(handler(stream, idents, msg))\n  File \"C:\\Users\\Parth Salke\\anaconda3\\lib\\site-packages\\tornado\\gen.py\", line 209, in wrapper\n    yielded = next(result)\n  File \"C:\\Users\\Parth Salke\\anaconda3\\lib\\site-packages\\ipykernel\\kernelbase.py\", line 543, in execute_request\n    self.do_execute(\n  File \"C:\\Users\\Parth Salke\\anaconda3\\lib\\site-packages\\tornado\\gen.py\", line 209, in wrapper\n    yielded = next(result)\n  File \"C:\\Users\\Parth Salke\\anaconda3\\lib\\site-packages\\ipykernel\\ipkernel.py\", line 306, in do_execute\n    res = shell.run_cell(code, store_history=store_history, silent=silent)\n  File \"C:\\Users\\Parth Salke\\anaconda3\\lib\\site-packages\\ipykernel\\zmqshell.py\", line 536, in run_cell\n    return super(ZMQInteractiveShell, self).run_cell(*args, **kwargs)\n  File \"C:\\Users\\Parth Salke\\anaconda3\\lib\\site-packages\\IPython\\core\\interactiveshell.py\", line 2866, in run_cell\n    result = self._run_cell(\n  File \"C:\\Users\\Parth Salke\\anaconda3\\lib\\site-packages\\IPython\\core\\interactiveshell.py\", line 2895, in _run_cell\n    return runner(coro)\n  File \"C:\\Users\\Parth Salke\\anaconda3\\lib\\site-packages\\IPython\\core\\async_helpers.py\", line 68, in _pseudo_sync_runner\n    coro.send(None)\n  File \"C:\\Users\\Parth Salke\\anaconda3\\lib\\site-packages\\IPython\\core\\interactiveshell.py\", line 3071, in run_cell_async\n    has_raised = await self.run_ast_nodes(code_ast.body, cell_name,\n  File \"C:\\Users\\Parth Salke\\anaconda3\\lib\\site-packages\\IPython\\core\\interactiveshell.py\", line 3263, in run_ast_nodes\n    if (await self.run_code(code, result,  async_=asy)):\n  File \"C:\\Users\\Parth Salke\\anaconda3\\lib\\site-packages\\IPython\\core\\interactiveshell.py\", line 3343, in run_code\n    exec(code_obj, self.user_global_ns, self.user_ns)\n  File \"<ipython-input-31-18f2727b746f>\", line 3, in <module>\n    saver=tf.train.Saver()\n  File \"C:\\Users\\Parth Salke\\anaconda3\\lib\\site-packages\\tensorflow\\python\\training\\saver.py\", line 919, in __init__\n    self.build()\n  File \"C:\\Users\\Parth Salke\\anaconda3\\lib\\site-packages\\tensorflow\\python\\training\\saver.py\", line 931, in build\n    self._build(self._filename, build_save=True, build_restore=True)\n  File \"C:\\Users\\Parth Salke\\anaconda3\\lib\\site-packages\\tensorflow\\python\\training\\saver.py\", line 959, in _build\n    self.saver_def = self._builder._build_internal(  # pylint: disable=protected-access\n  File \"C:\\Users\\Parth Salke\\anaconda3\\lib\\site-packages\\tensorflow\\python\\training\\saver.py\", line 529, in _build_internal\n    restore_op = self._AddRestoreOps(filename_tensor, saveables,\n  File \"C:\\Users\\Parth Salke\\anaconda3\\lib\\site-packages\\tensorflow\\python\\training\\saver.py\", line 349, in _AddRestoreOps\n    all_tensors = self.bulk_restore(filename_tensor, saveables, preferred_shard,\n  File \"C:\\Users\\Parth Salke\\anaconda3\\lib\\site-packages\\tensorflow\\python\\training\\saver.py\", line 597, in bulk_restore\n    return io_ops.restore_v2(filename_tensor, names, slices, dtypes)\n  File \"C:\\Users\\Parth Salke\\anaconda3\\lib\\site-packages\\tensorflow\\python\\ops\\gen_io_ops.py\", line 1500, in restore_v2\n    _, _, _op, _outputs = _op_def_library._apply_op_helper(\n  File \"C:\\Users\\Parth Salke\\anaconda3\\lib\\site-packages\\tensorflow\\python\\framework\\op_def_library.py\", line 740, in _apply_op_helper\n    op = g._create_op_internal(op_type_name, inputs, dtypes=None,\n  File \"C:\\Users\\Parth Salke\\anaconda3\\lib\\site-packages\\tensorflow\\python\\framework\\ops.py\", line 3776, in _create_op_internal\n    ret = Operation(\n  File \"C:\\Users\\Parth Salke\\anaconda3\\lib\\site-packages\\tensorflow\\python\\framework\\ops.py\", line 2175, in __init__\n    self._traceback = tf_stack.extract_stack_for_node(self._c_op)\n"
     ]
    }
   ],
   "source": [
    "\n",
    "sess=tf.Session()\n",
    "sess.run(init)\n",
    "saver.restore(sess,model_path)"
   ]
  },
  {
   "cell_type": "code",
   "execution_count": 33,
   "metadata": {},
   "outputs": [],
   "source": [
    "prediction=tf.argmax(y,1)\n",
    "correct_prediction=tf.equal(tf.argmax(y,1), tf.argmax(y_,1))\n",
    "accuracy=tf.reduce_mean(tf.cast(correct_prediction,tf.float32))"
   ]
  },
  {
   "cell_type": "code",
   "execution_count": 34,
   "metadata": {},
   "outputs": [
    {
     "ename": "SyntaxError",
     "evalue": "positional argument follows keyword argument (<ipython-input-34-45f8cc20df38>, line 7)",
     "output_type": "error",
     "traceback": [
      "\u001b[1;36m  File \u001b[1;32m\"<ipython-input-34-45f8cc20df38>\"\u001b[1;36m, line \u001b[1;32m7\u001b[0m\n\u001b[1;33m    print(\"Original class: \", y1=[i], \"predicted class: \",prediciton_run)\u001b[0m\n\u001b[1;37m                                      ^\u001b[0m\n\u001b[1;31mSyntaxError\u001b[0m\u001b[1;31m:\u001b[0m positional argument follows keyword argument\n"
     ]
    }
   ],
   "source": [
    "print(\"******************************************\")\n",
    "print(\"0 stands for Fake Note and 1 stands for Real Note\")\n",
    "print(\"******************************************\")\n",
    "for i in range(754,768):\n",
    "    prediciton_run=sess.run(prediction, feed_dict={x: X[i].reshape(1,4)})\n",
    "    accuracy_run=sess.run(accuracy, feed_dict={x: X[i].reshape(1,4)})\n",
    "    print(\"Original class: \", y1=[i], \"predicted class: \",prediciton_run)"
   ]
  },
  {
   "cell_type": "code",
   "execution_count": null,
   "metadata": {},
   "outputs": [],
   "source": []
  }
 ],
 "metadata": {
  "kernelspec": {
   "display_name": "Python 3",
   "language": "python",
   "name": "python3"
  },
  "language_info": {
   "codemirror_mode": {
    "name": "ipython",
    "version": 3
   },
   "file_extension": ".py",
   "mimetype": "text/x-python",
   "name": "python",
   "nbconvert_exporter": "python",
   "pygments_lexer": "ipython3",
   "version": "3.8.3"
  }
 },
 "nbformat": 4,
 "nbformat_minor": 4
}
