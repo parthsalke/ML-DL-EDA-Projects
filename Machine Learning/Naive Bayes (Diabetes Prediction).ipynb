{
 "cells": [
  {
   "cell_type": "code",
   "execution_count": 23,
   "metadata": {},
   "outputs": [],
   "source": [
    "import csv\n",
    "import math\n",
    "import random"
   ]
  },
  {
   "cell_type": "code",
   "execution_count": 24,
   "metadata": {},
   "outputs": [],
   "source": [
    "def loadcsv(filename):\n",
    "    lines=csv.reader(open(r'C:\\\\Users\\\\Parth Salke\\\\Downloads\\\\Datasets\\\\diabetes.csv'))\n",
    "    dataset=list(lines)\n",
    "    for i in range(len(dataset)):\n",
    "        dataset[i]=[float(x) for x in dataset[i]]\n",
    "    return dataset"
   ]
  },
  {
   "cell_type": "code",
   "execution_count": 25,
   "metadata": {},
   "outputs": [],
   "source": [
    "def splitdataset(dataset,splitRatio):\n",
    "    trainsize=int(len(dataset)* splitRatio)\n",
    "    trainSet=[]\n",
    "    copy=list(dataset)\n",
    "    while len(trainSet)< trainsize:\n",
    "        index=random.randrange(len(copy))\n",
    "        trainSet.append(copy.pop(index))\n",
    "    return [trainSet, copy]"
   ]
  },
  {
   "cell_type": "code",
   "execution_count": 26,
   "metadata": {},
   "outputs": [],
   "source": [
    "def separateByClass(dataset):\n",
    "    seperated={}\n",
    "    for i in range(len(dataset)):\n",
    "        vector=dataset[i]\n",
    "        if (vector[-1] not in seperated):\n",
    "            seperated[vector[-1]]=[]\n",
    "        seperated[vector[-1]].append(vector)\n",
    "    return seperated"
   ]
  },
  {
   "cell_type": "code",
   "execution_count": 27,
   "metadata": {},
   "outputs": [],
   "source": [
    "def mean(numbers):\n",
    "    return sum(numbers)/float(len(numbers))"
   ]
  },
  {
   "cell_type": "code",
   "execution_count": 28,
   "metadata": {},
   "outputs": [],
   "source": [
    "def sd(numbers):\n",
    "    avg=mean(numbers)\n",
    "    variance=sum([pow(x-avg,2) for x in numbers])/float(len(numbers)-1)\n",
    "    return math.sqrt(variance)"
   ]
  },
  {
   "cell_type": "code",
   "execution_count": 29,
   "metadata": {},
   "outputs": [],
   "source": [
    "def summarize(dataset):\n",
    "    summaries=[(mean(attribute),sd(attribute)) for attribute in zip(*dataset)]\n",
    "    del summaries[-1]\n",
    "    return summaries"
   ]
  },
  {
   "cell_type": "code",
   "execution_count": 47,
   "metadata": {},
   "outputs": [],
   "source": [
    "def summarizeByclass(dataset):\n",
    "    seperated=separateByClass(dataset)\n",
    "    summaries={}\n",
    "    for classValue, instances in seperated.items():\n",
    "        summaries[classValue]=summarize(instances)\n",
    "    return summaries"
   ]
  },
  {
   "cell_type": "code",
   "execution_count": 48,
   "metadata": {},
   "outputs": [],
   "source": [
    "def calculateProb(x,mean,sd):\n",
    "    exponent=math.exp(-(math.pow(x-mean,2)/(2*math.pow(sd,2))))\n",
    "    return (1/(math.sqrt(2*math.pi)*sd))*exponent"
   ]
  },
  {
   "cell_type": "code",
   "execution_count": 49,
   "metadata": {},
   "outputs": [],
   "source": [
    "def calculateClassProb(summaries,inputVector):\n",
    "    probabilites={}\n",
    "    for classValue,classSummaries in summaries.items():\n",
    "        probabilites[classValue]=1\n",
    "        for i in range(len(classSummaries)):\n",
    "            mean,sd=classSummaries[i]\n",
    "            x=inputVector[i]\n",
    "            probabilites[classValue] *=calculateProb(x,mean,sd)\n",
    "        return probabilites"
   ]
  },
  {
   "cell_type": "code",
   "execution_count": 50,
   "metadata": {},
   "outputs": [],
   "source": [
    "def predict(summaries,inputVector):\n",
    "    probabilites=calculateClassProb(summaries,inputVector)\n",
    "    bestlabel,bestprob=None,-1\n",
    "    for classValue, probability in probabilites.items():\n",
    "        if bestlabel is None or probability>bestprob:\n",
    "            bestprob=probability\n",
    "            bestlabel=classValue\n",
    "    return bestlabel"
   ]
  },
  {
   "cell_type": "code",
   "execution_count": 51,
   "metadata": {},
   "outputs": [],
   "source": [
    "def getPredictions(summaries,testSet):\n",
    "    predictions=[]\n",
    "    for i in range(len(testSet)):\n",
    "        result=predict(summaries,testSet[i])\n",
    "        predictions.append(result)\n",
    "    return predictions"
   ]
  },
  {
   "cell_type": "code",
   "execution_count": 56,
   "metadata": {},
   "outputs": [],
   "source": [
    "def getAccuracy(testSet,predictions):\n",
    "    correct=0\n",
    "    for x in range(len(testSet)):\n",
    "        if testSet[x][-1]==predictions[x]:\n",
    "            correct +=1\n",
    "    return (correct/float(len(testSet)))*100.0"
   ]
  },
  {
   "cell_type": "code",
   "execution_count": 76,
   "metadata": {},
   "outputs": [
    {
     "name": "stdout",
     "output_type": "stream",
     "text": [
      "Split 768 rows into train= 499 and test= 269 rows\n",
      "Accuracy: 66.17100371747212%\n"
     ]
    }
   ],
   "source": [
    "def main():\n",
    "    filename='diabetes.csv'\n",
    "    splitRatio=0.65\n",
    "    dataset=loadcsv(filename)\n",
    "    trainingSet,testSet=splitdataset(dataset,splitRatio)\n",
    "    print('Split {0} rows into train= {1} and test= {2} rows'.format(len(dataset),len(trainingSet),len(testSet)))\n",
    "    \n",
    "    summaries=summarizeByclass(trainingSet)\n",
    "    \n",
    "    predictions=getPredictions(summaries,testSet)\n",
    "    accuracy=getAccuracy(testSet, predictions)\n",
    "    print('Accuracy: {0}%'.format(accuracy))\n",
    "    \n",
    "main()"
   ]
  }
 ],
 "metadata": {
  "kernelspec": {
   "display_name": "Python 3",
   "language": "python",
   "name": "python3"
  },
  "language_info": {
   "codemirror_mode": {
    "name": "ipython",
    "version": 3
   },
   "file_extension": ".py",
   "mimetype": "text/x-python",
   "name": "python",
   "nbconvert_exporter": "python",
   "pygments_lexer": "ipython3",
   "version": "3.8.3"
  }
 },
 "nbformat": 4,
 "nbformat_minor": 4
}
